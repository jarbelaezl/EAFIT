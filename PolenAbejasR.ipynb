{
  "nbformat": 4,
  "nbformat_minor": 0,
  "metadata": {
    "colab": {
      "provenance": [],
      "authorship_tag": "ABX9TyOJfIvlrfXTPOqaSznGVK8R",
      "include_colab_link": true
    },
    "kernelspec": {
      "name": "ir",
      "display_name": "R"
    },
    "language_info": {
      "name": "R"
    }
  },
  "cells": [
    {
      "cell_type": "markdown",
      "metadata": {
        "id": "view-in-github",
        "colab_type": "text"
      },
      "source": [
        "<a href=\"https://colab.research.google.com/github/jarbelaezl/EAFIT/blob/main/PolenAbejasR.ipynb\" target=\"_parent\"><img src=\"https://colab.research.google.com/assets/colab-badge.svg\" alt=\"Open In Colab\"/></a>"
      ]
    },
    {
      "cell_type": "markdown",
      "source": [
        "Celda 1: instalar librerías"
      ],
      "metadata": {
        "id": "t5yBBB2yDlWk"
      }
    },
    {
      "cell_type": "code",
      "execution_count": 6,
      "metadata": {
        "colab": {
          "base_uri": "https://localhost:8080/"
        },
        "id": "rJmvL3Wj8aJM",
        "outputId": "e4ca99e9-82c8-4367-bedd-42c0113e20ac"
      },
      "outputs": [
        {
          "output_type": "stream",
          "name": "stderr",
          "text": [
            "Installing package into ‘/usr/local/lib/R/site-library’\n",
            "(as ‘lib’ is unspecified)\n",
            "\n",
            "Installing package into ‘/usr/local/lib/R/site-library’\n",
            "(as ‘lib’ is unspecified)\n",
            "\n"
          ]
        }
      ],
      "source": [
        "install.packages(\"dplyr\", repos='http://cran.us.r-project.org')\n",
        "install.packages(\"ggplot2\", repos='http://cran.us.r-project.org')\n",
        "library(dplyr)\n",
        "library(ggplot2)\n"
      ]
    },
    {
      "cell_type": "markdown",
      "source": [
        "Celda 2: datos y porcentajes"
      ],
      "metadata": {
        "id": "u0NtBuSLDpep"
      }
    },
    {
      "cell_type": "code",
      "source": [
        "datos <- data.frame(\n",
        "  Familia = c(\"Urticaceae cecropia\", \"Rhamnaceae\", \"Dilleniaceae\", \"Metastomataceae\",\n",
        "              \"Cannabaceae Trema\", \"Myrtaceae\", \"Polypodiaceae\", \"Malvaceae  Heliocarpus\",\n",
        "              \"Fabaceae macrolobium\", \"Poaceae\", \"Malvaceae Bombacoideae\", \"Loranthaceae oryctanthus\"),\n",
        "  Conteo = c(845, 120, 56, 39, 12, 21, 10, 7, 8, 6, 5, 4)\n",
        ")\n",
        "\n",
        "datos <- datos %>%\n",
        "  mutate(Porcentaje = Conteo / sum(Conteo) * 100)\n",
        "\n",
        "print(datos)"
      ],
      "metadata": {
        "colab": {
          "base_uri": "https://localhost:8080/"
        },
        "id": "TeJNZwgtDg2N",
        "outputId": "2a77a13b-42b7-429e-c7ed-dc18321e1a6c"
      },
      "execution_count": 7,
      "outputs": [
        {
          "output_type": "stream",
          "name": "stdout",
          "text": [
            "                    Familia Conteo Porcentaje\n",
            "1       Urticaceae cecropia    845 74.5807590\n",
            "2                Rhamnaceae    120 10.5913504\n",
            "3              Dilleniaceae     56  4.9426302\n",
            "4           Metastomataceae     39  3.4421889\n",
            "5         Cannabaceae Trema     12  1.0591350\n",
            "6                 Myrtaceae     21  1.8534863\n",
            "7             Polypodiaceae     10  0.8826125\n",
            "8    Malvaceae  Heliocarpus      7  0.6178288\n",
            "9      Fabaceae macrolobium      8  0.7060900\n",
            "10                  Poaceae      6  0.5295675\n",
            "11   Malvaceae Bombacoideae      5  0.4413063\n",
            "12 Loranthaceae oryctanthus      4  0.3530450\n"
          ]
        }
      ]
    },
    {
      "cell_type": "markdown",
      "source": [
        "Celda 3: gráfico"
      ],
      "metadata": {
        "id": "Kb1yJ8zDDso1"
      }
    },
    {
      "cell_type": "code",
      "source": [
        "ggplot(datos, aes(x = reorder(Familia, Porcentaje), y = Porcentaje)) +\n",
        "  geom_bar(stat = \"identity\", fill = \"skyblue\") +\n",
        "  coord_flip() +\n",
        "  labs(title = \"Distribución porcentual del polen por familia\",\n",
        "       x = \"\", y = \"% de polen\") +\n",
        "  theme_minimal()"
      ],
      "metadata": {
        "colab": {
          "base_uri": "https://localhost:8080/",
          "height": 437
        },
        "id": "iFbgV6nKER6f",
        "outputId": "977ab4f3-8816-4345-f044-68991a39687b"
      },
      "execution_count": 8,
      "outputs": [
        {
          "output_type": "display_data",
          "data": {
            "text/plain": [
              "plot without title"
            ],
            "image/png": "[encoded data removed]"
          },
          "metadata": {
            "image/png": {
              "width": 420,
              "height": 420
            }
          }
        }
      ]
    },
    {
      "cell_type": "markdown",
      "source": [
        "la planta con mayor abundancia es el Yarumo (U. cecropia)\n"
      ],
      "metadata": {
        "id": "H3AHlKYFFUQo"
      }
    }
  ]
}